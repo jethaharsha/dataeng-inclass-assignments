{
  "nbformat": 4,
  "nbformat_minor": 0,
  "metadata": {
    "colab": {
      "name": "Week4.ipynb",
      "provenance": [],
      "toc_visible": true,
      "mount_file_id": "1bWuaw6v0szqPBr04H4uZEzN6Ni9rAj3O",
      "authorship_tag": "ABX9TyNFRAAJLk1Rh3E/TfPinh62",
      "include_colab_link": true
    },
    "kernelspec": {
      "name": "python3",
      "display_name": "Python 3"
    }
  },
  "cells": [
    {
      "cell_type": "markdown",
      "metadata": {
        "id": "view-in-github",
        "colab_type": "text"
      },
      "source": [
        "<a href=\"https://colab.research.google.com/github/jethaharsha/dataeng-inclass-assignments/blob/main/Week4.ipynb\" target=\"_parent\"><img src=\"https://colab.research.google.com/assets/colab-badge.svg\" alt=\"Open In Colab\"/></a>"
      ]
    },
    {
      "cell_type": "code",
      "metadata": {
        "id": "ALGVYlZnVvjH"
      },
      "source": [
        "import pandas as pd\r\n",
        "import csv"
      ],
      "execution_count": 92,
      "outputs": []
    },
    {
      "cell_type": "code",
      "metadata": {
        "colab": {
          "base_uri": "https://localhost:8080/"
        },
        "id": "-uMQOc7SQ7ki",
        "outputId": "bfce8328-10d0-45b4-d27c-0d96a124948f"
      },
      "source": [
        "from google.colab import drive\r\n",
        "drive.mount('/content/drive/')"
      ],
      "execution_count": 93,
      "outputs": [
        {
          "output_type": "stream",
          "text": [
            "Drive already mounted at /content/drive/; to attempt to forcibly remount, call drive.mount(\"/content/drive/\", force_remount=True).\n"
          ],
          "name": "stdout"
        }
      ]
    },
    {
      "cell_type": "code",
      "metadata": {
        "id": "ipLOmlOZWWgq"
      },
      "source": [
        "data = pd.read_csv('/content/drive/MyDrive/Colab Notebooks/Oregon Hwy 26 Crash Data for 2019 - Crashes on Hwy 26 during 2019.csv')"
      ],
      "execution_count": 94,
      "outputs": []
    },
    {
      "cell_type": "code",
      "metadata": {
        "colab": {
          "base_uri": "https://localhost:8080/",
          "height": 321
        },
        "id": "R6bFdUqwZJmW",
        "outputId": "b795b9c2-fd29-447f-fc8f-de82469550b3"
      },
      "source": [
        "data.head()"
      ],
      "execution_count": 95,
      "outputs": [
        {
          "output_type": "execute_result",
          "data": {
            "text/html": [
              "<div>\n",
              "<style scoped>\n",
              "    .dataframe tbody tr th:only-of-type {\n",
              "        vertical-align: middle;\n",
              "    }\n",
              "\n",
              "    .dataframe tbody tr th {\n",
              "        vertical-align: top;\n",
              "    }\n",
              "\n",
              "    .dataframe thead th {\n",
              "        text-align: right;\n",
              "    }\n",
              "</style>\n",
              "<table border=\"1\" class=\"dataframe\">\n",
              "  <thead>\n",
              "    <tr style=\"text-align: right;\">\n",
              "      <th></th>\n",
              "      <th>Crash ID</th>\n",
              "      <th>Record Type</th>\n",
              "      <th>Vehicle ID</th>\n",
              "      <th>Participant ID</th>\n",
              "      <th>Participant Display Seq#</th>\n",
              "      <th>Vehicle Coded Seq#</th>\n",
              "      <th>Participant Vehicle Seq#</th>\n",
              "      <th>Serial #</th>\n",
              "      <th>Crash Month</th>\n",
              "      <th>Crash Day</th>\n",
              "      <th>Crash Year</th>\n",
              "      <th>Week Day Code</th>\n",
              "      <th>Crash Hour</th>\n",
              "      <th>County Code</th>\n",
              "      <th>City Section ID</th>\n",
              "      <th>Urban Area Code</th>\n",
              "      <th>Functional Class Code</th>\n",
              "      <th>NHS Flag</th>\n",
              "      <th>Highway Number</th>\n",
              "      <th>Highway Suffix</th>\n",
              "      <th>Roadway Number</th>\n",
              "      <th>Highway Component</th>\n",
              "      <th>Mileage Type</th>\n",
              "      <th>Connection Number</th>\n",
              "      <th>Linear Reference System (LRS)</th>\n",
              "      <th>Latitude Degrees</th>\n",
              "      <th>Latitude Minutes</th>\n",
              "      <th>Latitude Seconds</th>\n",
              "      <th>Longitude Degrees</th>\n",
              "      <th>Longitude Minutes</th>\n",
              "      <th>Longitude Seconds</th>\n",
              "      <th>Latitude (Decimal Degrees)</th>\n",
              "      <th>Longitude (Decimal Degrees)</th>\n",
              "      <th>Special Jurisdiction</th>\n",
              "      <th>Jurisdiction Group</th>\n",
              "      <th>Street Number</th>\n",
              "      <th>Nearest Intersecting Street Number</th>\n",
              "      <th>Intersection Sequence Number</th>\n",
              "      <th>Distance from Intersection</th>\n",
              "      <th>Direction From Intersection</th>\n",
              "      <th>...</th>\n",
              "      <th>Vehicle Cause 3 Code</th>\n",
              "      <th>Vehicle Event 1 Code</th>\n",
              "      <th>Vehicle Event 2 Code</th>\n",
              "      <th>Vehicle Event 3 Code</th>\n",
              "      <th>Vehicle Exceeded Posted Speed Flag</th>\n",
              "      <th>Vehicle Hit &amp; Run Flag</th>\n",
              "      <th>Safety Equipment Used Quantity</th>\n",
              "      <th>Safety Equipment Un-used Quantity</th>\n",
              "      <th>Safety Equipment Use Unknown Quantity</th>\n",
              "      <th>Vehicle Occupant Count</th>\n",
              "      <th>Vehicle Striking Flag</th>\n",
              "      <th>Participant Type Code</th>\n",
              "      <th>Participant Hit &amp; Run Flag</th>\n",
              "      <th>Public Employee Flag</th>\n",
              "      <th>Sex</th>\n",
              "      <th>Age</th>\n",
              "      <th>Driver License Status</th>\n",
              "      <th>Driver Residence Status</th>\n",
              "      <th>Injury Severity</th>\n",
              "      <th>Participant Safety Equipment Use Code</th>\n",
              "      <th>Airbag Deployment</th>\n",
              "      <th>Non-Motorist Movement Code</th>\n",
              "      <th>Non-Motorist Travel Direction From</th>\n",
              "      <th>Non-Motorist Travel Direction To</th>\n",
              "      <th>Non-Motorist Location</th>\n",
              "      <th>Participant Action</th>\n",
              "      <th>Participant Error 1 Code</th>\n",
              "      <th>Participant Error 2 Code</th>\n",
              "      <th>Participant Error 3 Code</th>\n",
              "      <th>Participant Cause 1 Code</th>\n",
              "      <th>Participant Cause 2 Code</th>\n",
              "      <th>Participant Cause 3 Code</th>\n",
              "      <th>Participant Event 1 Code</th>\n",
              "      <th>Participant Event 2 Code</th>\n",
              "      <th>Participant Event 3 Code</th>\n",
              "      <th>BAC Test Results Code</th>\n",
              "      <th>Alcohol Use Reported</th>\n",
              "      <th>Drug Use Reported</th>\n",
              "      <th>Participant Marijuana Use Reported</th>\n",
              "      <th>Participant Striker Flag</th>\n",
              "    </tr>\n",
              "  </thead>\n",
              "  <tbody>\n",
              "    <tr>\n",
              "      <th>0</th>\n",
              "      <td>1809119</td>\n",
              "      <td>1</td>\n",
              "      <td>NaN</td>\n",
              "      <td>NaN</td>\n",
              "      <td>NaN</td>\n",
              "      <td>NaN</td>\n",
              "      <td>NaN</td>\n",
              "      <td>99992.0</td>\n",
              "      <td>3.0</td>\n",
              "      <td>14.0</td>\n",
              "      <td>2019.0</td>\n",
              "      <td>5.0</td>\n",
              "      <td>14.0</td>\n",
              "      <td>26.0</td>\n",
              "      <td>0.0</td>\n",
              "      <td>57.0</td>\n",
              "      <td>14.0</td>\n",
              "      <td>1.0</td>\n",
              "      <td>26.0</td>\n",
              "      <td>NaN</td>\n",
              "      <td>1.0</td>\n",
              "      <td>0.0</td>\n",
              "      <td>0.0</td>\n",
              "      <td>NaN</td>\n",
              "      <td>002600100S00</td>\n",
              "      <td>45.0</td>\n",
              "      <td>27.0</td>\n",
              "      <td>40.62</td>\n",
              "      <td>-122.0</td>\n",
              "      <td>22.0</td>\n",
              "      <td>59.23</td>\n",
              "      <td>0.0</td>\n",
              "      <td>NaN</td>\n",
              "      <td>NaN</td>\n",
              "      <td>NaN</td>\n",
              "      <td>NaN</td>\n",
              "      <td>NaN</td>\n",
              "      <td>9.0</td>\n",
              "      <td>16.77</td>\n",
              "      <td>55.0</td>\n",
              "      <td>...</td>\n",
              "      <td>NaN</td>\n",
              "      <td>NaN</td>\n",
              "      <td>NaN</td>\n",
              "      <td>NaN</td>\n",
              "      <td>NaN</td>\n",
              "      <td>NaN</td>\n",
              "      <td>NaN</td>\n",
              "      <td>NaN</td>\n",
              "      <td>NaN</td>\n",
              "      <td>NaN</td>\n",
              "      <td>NaN</td>\n",
              "      <td>NaN</td>\n",
              "      <td>NaN</td>\n",
              "      <td>NaN</td>\n",
              "      <td>NaN</td>\n",
              "      <td>NaN</td>\n",
              "      <td>NaN</td>\n",
              "      <td>NaN</td>\n",
              "      <td>NaN</td>\n",
              "      <td>NaN</td>\n",
              "      <td>NaN</td>\n",
              "      <td>NaN</td>\n",
              "      <td>NaN</td>\n",
              "      <td>NaN</td>\n",
              "      <td>NaN</td>\n",
              "      <td>NaN</td>\n",
              "      <td>NaN</td>\n",
              "      <td>NaN</td>\n",
              "      <td>NaN</td>\n",
              "      <td>NaN</td>\n",
              "      <td>NaN</td>\n",
              "      <td>NaN</td>\n",
              "      <td>NaN</td>\n",
              "      <td>NaN</td>\n",
              "      <td>NaN</td>\n",
              "      <td>NaN</td>\n",
              "      <td>NaN</td>\n",
              "      <td>NaN</td>\n",
              "      <td>NaN</td>\n",
              "      <td>NaN</td>\n",
              "    </tr>\n",
              "    <tr>\n",
              "      <th>1</th>\n",
              "      <td>1809119</td>\n",
              "      <td>2</td>\n",
              "      <td>3409578.0</td>\n",
              "      <td>NaN</td>\n",
              "      <td>NaN</td>\n",
              "      <td>1.0</td>\n",
              "      <td>NaN</td>\n",
              "      <td>NaN</td>\n",
              "      <td>NaN</td>\n",
              "      <td>NaN</td>\n",
              "      <td>NaN</td>\n",
              "      <td>NaN</td>\n",
              "      <td>NaN</td>\n",
              "      <td>NaN</td>\n",
              "      <td>NaN</td>\n",
              "      <td>NaN</td>\n",
              "      <td>NaN</td>\n",
              "      <td>NaN</td>\n",
              "      <td>NaN</td>\n",
              "      <td>NaN</td>\n",
              "      <td>NaN</td>\n",
              "      <td>NaN</td>\n",
              "      <td>NaN</td>\n",
              "      <td>NaN</td>\n",
              "      <td>NaN</td>\n",
              "      <td>NaN</td>\n",
              "      <td>NaN</td>\n",
              "      <td>NaN</td>\n",
              "      <td>NaN</td>\n",
              "      <td>NaN</td>\n",
              "      <td>NaN</td>\n",
              "      <td>NaN</td>\n",
              "      <td>NaN</td>\n",
              "      <td>NaN</td>\n",
              "      <td>NaN</td>\n",
              "      <td>NaN</td>\n",
              "      <td>NaN</td>\n",
              "      <td>NaN</td>\n",
              "      <td>NaN</td>\n",
              "      <td>NaN</td>\n",
              "      <td>...</td>\n",
              "      <td>0.0</td>\n",
              "      <td>0.0</td>\n",
              "      <td>1.0</td>\n",
              "      <td>0.0</td>\n",
              "      <td>0.0</td>\n",
              "      <td>1.0</td>\n",
              "      <td>1.0</td>\n",
              "      <td>NaN</td>\n",
              "      <td>NaN</td>\n",
              "      <td>NaN</td>\n",
              "      <td>NaN</td>\n",
              "      <td>NaN</td>\n",
              "      <td>NaN</td>\n",
              "      <td>NaN</td>\n",
              "      <td>NaN</td>\n",
              "      <td>NaN</td>\n",
              "      <td>NaN</td>\n",
              "      <td>NaN</td>\n",
              "      <td>NaN</td>\n",
              "      <td>NaN</td>\n",
              "      <td>NaN</td>\n",
              "      <td>NaN</td>\n",
              "      <td>NaN</td>\n",
              "      <td>NaN</td>\n",
              "      <td>NaN</td>\n",
              "      <td>NaN</td>\n",
              "      <td>NaN</td>\n",
              "      <td>NaN</td>\n",
              "      <td>NaN</td>\n",
              "      <td>NaN</td>\n",
              "      <td>NaN</td>\n",
              "      <td>NaN</td>\n",
              "      <td>NaN</td>\n",
              "      <td>NaN</td>\n",
              "      <td>NaN</td>\n",
              "      <td>NaN</td>\n",
              "      <td>NaN</td>\n",
              "      <td>NaN</td>\n",
              "      <td>NaN</td>\n",
              "      <td>NaN</td>\n",
              "    </tr>\n",
              "    <tr>\n",
              "      <th>2</th>\n",
              "      <td>1809119</td>\n",
              "      <td>3</td>\n",
              "      <td>3409578.0</td>\n",
              "      <td>3887884.0</td>\n",
              "      <td>1.0</td>\n",
              "      <td>1.0</td>\n",
              "      <td>1.0</td>\n",
              "      <td>NaN</td>\n",
              "      <td>NaN</td>\n",
              "      <td>NaN</td>\n",
              "      <td>NaN</td>\n",
              "      <td>NaN</td>\n",
              "      <td>NaN</td>\n",
              "      <td>NaN</td>\n",
              "      <td>NaN</td>\n",
              "      <td>NaN</td>\n",
              "      <td>NaN</td>\n",
              "      <td>NaN</td>\n",
              "      <td>NaN</td>\n",
              "      <td>NaN</td>\n",
              "      <td>NaN</td>\n",
              "      <td>NaN</td>\n",
              "      <td>NaN</td>\n",
              "      <td>NaN</td>\n",
              "      <td>NaN</td>\n",
              "      <td>NaN</td>\n",
              "      <td>NaN</td>\n",
              "      <td>NaN</td>\n",
              "      <td>NaN</td>\n",
              "      <td>NaN</td>\n",
              "      <td>NaN</td>\n",
              "      <td>NaN</td>\n",
              "      <td>NaN</td>\n",
              "      <td>NaN</td>\n",
              "      <td>NaN</td>\n",
              "      <td>NaN</td>\n",
              "      <td>NaN</td>\n",
              "      <td>NaN</td>\n",
              "      <td>NaN</td>\n",
              "      <td>NaN</td>\n",
              "      <td>...</td>\n",
              "      <td>NaN</td>\n",
              "      <td>NaN</td>\n",
              "      <td>NaN</td>\n",
              "      <td>NaN</td>\n",
              "      <td>NaN</td>\n",
              "      <td>NaN</td>\n",
              "      <td>NaN</td>\n",
              "      <td>1.0</td>\n",
              "      <td>0.0</td>\n",
              "      <td>0.0</td>\n",
              "      <td>1.0</td>\n",
              "      <td>20.0</td>\n",
              "      <td>1.0</td>\n",
              "      <td>1.0</td>\n",
              "      <td>1.0</td>\n",
              "      <td>6.0</td>\n",
              "      <td>NaN</td>\n",
              "      <td>NaN</td>\n",
              "      <td>NaN</td>\n",
              "      <td>NaN</td>\n",
              "      <td>NaN</td>\n",
              "      <td>0.0</td>\n",
              "      <td>47.0</td>\n",
              "      <td>NaN</td>\n",
              "      <td>NaN</td>\n",
              "      <td>1.0</td>\n",
              "      <td>NaN</td>\n",
              "      <td>NaN</td>\n",
              "      <td>NaN</td>\n",
              "      <td>NaN</td>\n",
              "      <td>NaN</td>\n",
              "      <td>0.0</td>\n",
              "      <td>9.0</td>\n",
              "      <td>0.0</td>\n",
              "      <td>0.0</td>\n",
              "      <td>NaN</td>\n",
              "      <td>NaN</td>\n",
              "      <td>NaN</td>\n",
              "      <td>NaN</td>\n",
              "      <td>NaN</td>\n",
              "    </tr>\n",
              "    <tr>\n",
              "      <th>3</th>\n",
              "      <td>1809119</td>\n",
              "      <td>2</td>\n",
              "      <td>3409579.0</td>\n",
              "      <td>NaN</td>\n",
              "      <td>NaN</td>\n",
              "      <td>2.0</td>\n",
              "      <td>NaN</td>\n",
              "      <td>NaN</td>\n",
              "      <td>NaN</td>\n",
              "      <td>NaN</td>\n",
              "      <td>NaN</td>\n",
              "      <td>NaN</td>\n",
              "      <td>NaN</td>\n",
              "      <td>NaN</td>\n",
              "      <td>NaN</td>\n",
              "      <td>NaN</td>\n",
              "      <td>NaN</td>\n",
              "      <td>NaN</td>\n",
              "      <td>NaN</td>\n",
              "      <td>NaN</td>\n",
              "      <td>NaN</td>\n",
              "      <td>NaN</td>\n",
              "      <td>NaN</td>\n",
              "      <td>NaN</td>\n",
              "      <td>NaN</td>\n",
              "      <td>NaN</td>\n",
              "      <td>NaN</td>\n",
              "      <td>NaN</td>\n",
              "      <td>NaN</td>\n",
              "      <td>NaN</td>\n",
              "      <td>NaN</td>\n",
              "      <td>NaN</td>\n",
              "      <td>NaN</td>\n",
              "      <td>NaN</td>\n",
              "      <td>NaN</td>\n",
              "      <td>NaN</td>\n",
              "      <td>NaN</td>\n",
              "      <td>NaN</td>\n",
              "      <td>NaN</td>\n",
              "      <td>NaN</td>\n",
              "      <td>...</td>\n",
              "      <td>0.0</td>\n",
              "      <td>0.0</td>\n",
              "      <td>1.0</td>\n",
              "      <td>0.0</td>\n",
              "      <td>1.0</td>\n",
              "      <td>2.0</td>\n",
              "      <td>0.0</td>\n",
              "      <td>NaN</td>\n",
              "      <td>NaN</td>\n",
              "      <td>NaN</td>\n",
              "      <td>NaN</td>\n",
              "      <td>NaN</td>\n",
              "      <td>NaN</td>\n",
              "      <td>NaN</td>\n",
              "      <td>NaN</td>\n",
              "      <td>NaN</td>\n",
              "      <td>NaN</td>\n",
              "      <td>NaN</td>\n",
              "      <td>NaN</td>\n",
              "      <td>NaN</td>\n",
              "      <td>NaN</td>\n",
              "      <td>NaN</td>\n",
              "      <td>NaN</td>\n",
              "      <td>NaN</td>\n",
              "      <td>NaN</td>\n",
              "      <td>NaN</td>\n",
              "      <td>NaN</td>\n",
              "      <td>NaN</td>\n",
              "      <td>NaN</td>\n",
              "      <td>NaN</td>\n",
              "      <td>NaN</td>\n",
              "      <td>NaN</td>\n",
              "      <td>NaN</td>\n",
              "      <td>NaN</td>\n",
              "      <td>NaN</td>\n",
              "      <td>NaN</td>\n",
              "      <td>NaN</td>\n",
              "      <td>NaN</td>\n",
              "      <td>NaN</td>\n",
              "      <td>NaN</td>\n",
              "    </tr>\n",
              "    <tr>\n",
              "      <th>4</th>\n",
              "      <td>1809119</td>\n",
              "      <td>3</td>\n",
              "      <td>3409579.0</td>\n",
              "      <td>3887885.0</td>\n",
              "      <td>2.0</td>\n",
              "      <td>2.0</td>\n",
              "      <td>1.0</td>\n",
              "      <td>NaN</td>\n",
              "      <td>NaN</td>\n",
              "      <td>NaN</td>\n",
              "      <td>NaN</td>\n",
              "      <td>NaN</td>\n",
              "      <td>NaN</td>\n",
              "      <td>NaN</td>\n",
              "      <td>NaN</td>\n",
              "      <td>NaN</td>\n",
              "      <td>NaN</td>\n",
              "      <td>NaN</td>\n",
              "      <td>NaN</td>\n",
              "      <td>NaN</td>\n",
              "      <td>NaN</td>\n",
              "      <td>NaN</td>\n",
              "      <td>NaN</td>\n",
              "      <td>NaN</td>\n",
              "      <td>NaN</td>\n",
              "      <td>NaN</td>\n",
              "      <td>NaN</td>\n",
              "      <td>NaN</td>\n",
              "      <td>NaN</td>\n",
              "      <td>NaN</td>\n",
              "      <td>NaN</td>\n",
              "      <td>NaN</td>\n",
              "      <td>NaN</td>\n",
              "      <td>NaN</td>\n",
              "      <td>NaN</td>\n",
              "      <td>NaN</td>\n",
              "      <td>NaN</td>\n",
              "      <td>NaN</td>\n",
              "      <td>NaN</td>\n",
              "      <td>NaN</td>\n",
              "      <td>...</td>\n",
              "      <td>NaN</td>\n",
              "      <td>NaN</td>\n",
              "      <td>NaN</td>\n",
              "      <td>NaN</td>\n",
              "      <td>NaN</td>\n",
              "      <td>NaN</td>\n",
              "      <td>NaN</td>\n",
              "      <td>1.0</td>\n",
              "      <td>0.0</td>\n",
              "      <td>0.0</td>\n",
              "      <td>1.0</td>\n",
              "      <td>66.0</td>\n",
              "      <td>1.0</td>\n",
              "      <td>1.0</td>\n",
              "      <td>9.0</td>\n",
              "      <td>2.0</td>\n",
              "      <td>1.0</td>\n",
              "      <td>NaN</td>\n",
              "      <td>NaN</td>\n",
              "      <td>NaN</td>\n",
              "      <td>NaN</td>\n",
              "      <td>0.0</td>\n",
              "      <td>0.0</td>\n",
              "      <td>NaN</td>\n",
              "      <td>NaN</td>\n",
              "      <td>0.0</td>\n",
              "      <td>NaN</td>\n",
              "      <td>NaN</td>\n",
              "      <td>NaN</td>\n",
              "      <td>NaN</td>\n",
              "      <td>NaN</td>\n",
              "      <td>NaN</td>\n",
              "      <td>9.0</td>\n",
              "      <td>9.0</td>\n",
              "      <td>0.0</td>\n",
              "      <td>NaN</td>\n",
              "      <td>NaN</td>\n",
              "      <td>NaN</td>\n",
              "      <td>NaN</td>\n",
              "      <td>NaN</td>\n",
              "    </tr>\n",
              "  </tbody>\n",
              "</table>\n",
              "<p>5 rows × 157 columns</p>\n",
              "</div>"
            ],
            "text/plain": [
              "   Crash ID  ...  Participant Striker Flag\n",
              "0   1809119  ...                       NaN\n",
              "1   1809119  ...                       NaN\n",
              "2   1809119  ...                       NaN\n",
              "3   1809119  ...                       NaN\n",
              "4   1809119  ...                       NaN\n",
              "\n",
              "[5 rows x 157 columns]"
            ]
          },
          "metadata": {
            "tags": []
          },
          "execution_count": 95
        }
      ]
    },
    {
      "cell_type": "code",
      "metadata": {
        "colab": {
          "base_uri": "https://localhost:8080/"
        },
        "id": "6WoYaYAv8LCr",
        "outputId": "67e8d9ac-0aee-4bd8-c391-9e41b8f7909b"
      },
      "source": [
        "#Existence Assertions\r\n",
        "ea1 = data[data['Crash ID']!=\"NaN\"]\r\n",
        "print(ea1)\r\n",
        "ea2 = data[data['Record Type']!=\"NaN\"]\r\n",
        "print(ea2)"
      ],
      "execution_count": 7,
      "outputs": [
        {
          "output_type": "stream",
          "text": [
            "      Crash ID  ...  Participant Striker Flag\n",
            "0      1809119  ...                       NaN\n",
            "1      1809119  ...                       NaN\n",
            "2      1809119  ...                       NaN\n",
            "3      1809119  ...                       NaN\n",
            "4      1809119  ...                       NaN\n",
            "...        ...  ...                       ...\n",
            "2734   1860771  ...                       NaN\n",
            "2735   1860771  ...                       NaN\n",
            "2736   1860771  ...                       NaN\n",
            "2737   1860771  ...                       NaN\n",
            "2738   1860771  ...                       NaN\n",
            "\n",
            "[2739 rows x 157 columns]\n",
            "      Crash ID  ...  Participant Striker Flag\n",
            "0      1809119  ...                       NaN\n",
            "1      1809119  ...                       NaN\n",
            "2      1809119  ...                       NaN\n",
            "3      1809119  ...                       NaN\n",
            "4      1809119  ...                       NaN\n",
            "...        ...  ...                       ...\n",
            "2734   1860771  ...                       NaN\n",
            "2735   1860771  ...                       NaN\n",
            "2736   1860771  ...                       NaN\n",
            "2737   1860771  ...                       NaN\n",
            "2738   1860771  ...                       NaN\n",
            "\n",
            "[2739 rows x 157 columns]\n"
          ],
          "name": "stdout"
        }
      ]
    },
    {
      "cell_type": "code",
      "metadata": {
        "id": "UeQKjZZ7cbwi"
      },
      "source": [
        "# Restructed the data into 3 different data frames as CrashesDF, VehiclesDF and ParticipantsDF\r\n",
        "CrashDF = data[data['Record Type'] == 1]\r\n",
        "VehiclesDF = data[data['Record Type'] == 2]\r\n",
        "ParticipantsDF = data[data['Record Type'] == 3]\r\n",
        "\r\n",
        "CrashesDF = CrashDF.dropna(axis=1,how='all')\r\n",
        "VehiclesDF = VehiclesDF.dropna(axis=1,how='all')\r\n",
        "ParticipantsDF = ParticipantsDF.dropna(axis=1,how='all')\r\n"
      ],
      "execution_count": 5,
      "outputs": []
    },
    {
      "cell_type": "code",
      "metadata": {
        "colab": {
          "base_uri": "https://localhost:8080/"
        },
        "id": "6euSr7p86P5N",
        "outputId": "f05063eb-b7a7-4765-821a-aff43e7d4f76"
      },
      "source": [
        "print(CrashesDF)\r\n",
        "print(VehiclesDF)\r\n",
        "print(ParticipantsDF)"
      ],
      "execution_count": 6,
      "outputs": [
        {
          "output_type": "stream",
          "text": [
            "      Crash ID  ...  Total Vehicle Occupant Count\n",
            "0      1809119  ...                           1.0\n",
            "5      1809229  ...                           0.0\n",
            "9      1809637  ...                           0.0\n",
            "12     1810874  ...                           0.0\n",
            "16     1812266  ...                           3.0\n",
            "...        ...  ...                           ...\n",
            "2716   1860371  ...                           1.0\n",
            "2719   1860417  ...                           0.0\n",
            "2724   1860427  ...                           1.0\n",
            "2729   1860453  ...                           0.0\n",
            "2734   1860771  ...                           1.0\n",
            "\n",
            "[508 rows x 93 columns]\n",
            "      Crash ID  ...  Safety Equipment Used Quantity\n",
            "1      1809119  ...                             1.0\n",
            "3      1809119  ...                             0.0\n",
            "6      1809229  ...                             1.0\n",
            "10     1809637  ...                             1.0\n",
            "13     1810874  ...                             1.0\n",
            "...        ...  ...                             ...\n",
            "2727   1860427  ...                             0.0\n",
            "2730   1860453  ...                             1.0\n",
            "2732   1860453  ...                             0.0\n",
            "2735   1860771  ...                             1.0\n",
            "2737   1860771  ...                             0.0\n",
            "\n",
            "[1015 rows x 24 columns]\n",
            "      Crash ID  Record Type  ...  Participant Event 2 Code  Participant Event 3 Code\n",
            "2      1809119            3  ...                       0.0                       0.0\n",
            "4      1809119            3  ...                       9.0                       0.0\n",
            "7      1809229            3  ...                       0.0                       0.0\n",
            "8      1809229            3  ...                       1.0                       0.0\n",
            "11     1809637            3  ...                       0.0                       0.0\n",
            "...        ...          ...  ...                       ...                       ...\n",
            "2728   1860427            3  ...                       0.0                       0.0\n",
            "2731   1860453            3  ...                       NaN                       0.0\n",
            "2733   1860453            3  ...                       NaN                       0.0\n",
            "2736   1860771            3  ...                       NaN                       0.0\n",
            "2738   1860771            3  ...                       NaN                       0.0\n",
            "\n",
            "[1216 rows x 33 columns]\n"
          ],
          "name": "stdout"
        }
      ]
    },
    {
      "cell_type": "code",
      "metadata": {
        "colab": {
          "base_uri": "https://localhost:8080/"
        },
        "id": "uceb-cJu-EtU",
        "outputId": "c54cd8b6-bf2a-428c-b2d7-e1edf03c6da9"
      },
      "source": [
        "#Limit Assertions\r\n",
        "#data[(1 <= data['Age']) & (data['Age'] <= 9)]\r\n",
        "la1 = ParticipantsDF['Age'].between(1.0,9.0).all()\r\n",
        "print(la1) #There are some NaN values in Age value that's why it shows output as False\r\n",
        "la2 = CrashesDF['Week Day Code'].between(1.0,7.0).all()\r\n",
        "print(la2)"
      ],
      "execution_count": 8,
      "outputs": [
        {
          "output_type": "stream",
          "text": [
            "False\n",
            "True\n"
          ],
          "name": "stdout"
        }
      ]
    },
    {
      "cell_type": "code",
      "metadata": {
        "colab": {
          "base_uri": "https://localhost:8080/"
        },
        "id": "pPdv1k9Z077s",
        "outputId": "12354589-2297-4e5b-9689-65e6ed13d34b"
      },
      "source": [
        "#Intra-record Assertions to find the Total Count of Persons Involved\r\n",
        "ir1 = CrashesDF['Total Pedestrian Count'] + CrashesDF['Total Pedalcyclist Count'] + CrashesDF['Total Unknown Non-Motorist Injury Count'] + CrashesDF['Total Vehicle Occupant Count']\r\n",
        "ir1.head(10)"
      ],
      "execution_count": 96,
      "outputs": [
        {
          "output_type": "execute_result",
          "data": {
            "text/plain": [
              "0     1.0\n",
              "5     0.0\n",
              "9     0.0\n",
              "12    0.0\n",
              "16    3.0\n",
              "26    1.0\n",
              "31    1.0\n",
              "34    0.0\n",
              "40    0.0\n",
              "46    0.0\n",
              "dtype: float64"
            ]
          },
          "metadata": {
            "tags": []
          },
          "execution_count": 96
        }
      ]
    },
    {
      "cell_type": "code",
      "metadata": {
        "colab": {
          "base_uri": "https://localhost:8080/"
        },
        "id": "K4_o4rxMCFJW",
        "outputId": "6ba0b75a-f77f-4581-ed53-352947e1ba99"
      },
      "source": [
        "#Inter-record assertions\r\n",
        "intera1 = CrashesDF[CrashesDF['Latitude Degrees']==45.0]\r\n",
        "print(intera1)\r\n",
        "intera2 = CrashesDF['Latitude Minutes'].between(17.0,41.0).all()\r\n",
        "print(intera2)"
      ],
      "execution_count": 9,
      "outputs": [
        {
          "output_type": "stream",
          "text": [
            "      Crash ID  ...  Total Vehicle Occupant Count\n",
            "0      1809119  ...                           1.0\n",
            "5      1809229  ...                           0.0\n",
            "9      1809637  ...                           0.0\n",
            "12     1810874  ...                           0.0\n",
            "16     1812266  ...                           3.0\n",
            "...        ...  ...                           ...\n",
            "2716   1860371  ...                           1.0\n",
            "2719   1860417  ...                           0.0\n",
            "2724   1860427  ...                           1.0\n",
            "2729   1860453  ...                           0.0\n",
            "2734   1860771  ...                           1.0\n",
            "\n",
            "[508 rows x 93 columns]\n",
            "True\n"
          ],
          "name": "stdout"
        }
      ]
    },
    {
      "cell_type": "code",
      "metadata": {
        "colab": {
          "base_uri": "https://localhost:8080/"
        },
        "id": "9ogpy8VJJC9f",
        "outputId": "7d045547-433f-4aeb-e5f5-0dcab170432b"
      },
      "source": [
        "#Summary Assertions\r\n",
        "sa1 = VehiclesDF['Vehicle ID'].unique().tolist()\r\n",
        "print(len(sa1))\r\n",
        "sa2 = ParticipantsDF['Participant ID'].unique().tolist()\r\n",
        "print(len(sa2))"
      ],
      "execution_count": 10,
      "outputs": [
        {
          "output_type": "stream",
          "text": [
            "1015\n",
            "1216\n"
          ],
          "name": "stdout"
        }
      ]
    },
    {
      "cell_type": "code",
      "metadata": {
        "colab": {
          "base_uri": "https://localhost:8080/"
        },
        "id": "xoLZ_cvqKhXr",
        "outputId": "137d963d-d836-4016-e384-2dd4386ad914"
      },
      "source": [
        "#Referential Integerity Assertions\r\n",
        "ra1 = CrashesDF[['Crash ID','County Code']]\r\n",
        "print(ra1.isnull().all())\r\n",
        "ra2 = VehiclesDF[['Crash ID','Vehicle ID']]\r\n",
        "print(ra2.isnull().all())"
      ],
      "execution_count": 11,
      "outputs": [
        {
          "output_type": "stream",
          "text": [
            "Crash ID       False\n",
            "County Code    False\n",
            "dtype: bool\n",
            "Crash ID      False\n",
            "Vehicle ID    False\n",
            "dtype: bool\n"
          ],
          "name": "stdout"
        }
      ]
    },
    {
      "cell_type": "code",
      "metadata": {
        "colab": {
          "base_uri": "https://localhost:8080/"
        },
        "id": "FIKKYTncM4Dj",
        "outputId": "acd8991e-5b47-4b39-d996-7cb09ed24517"
      },
      "source": [
        "#Statistical Distribution Assertions\r\n",
        "sda1 = CrashesDF['Crash Month'].value_counts()\r\n",
        "print(sda1)"
      ],
      "execution_count": 49,
      "outputs": [
        {
          "output_type": "stream",
          "text": [
            "3.0     57\n",
            "1.0     56\n",
            "4.0     53\n",
            "2.0     46\n",
            "12.0    44\n",
            "5.0     41\n",
            "7.0     37\n",
            "6.0     36\n",
            "10.0    36\n",
            "11.0    35\n",
            "9.0     34\n",
            "8.0     33\n",
            "Name: Crash Month, dtype: int64\n"
          ],
          "name": "stdout"
        }
      ]
    },
    {
      "cell_type": "code",
      "metadata": {
        "colab": {
          "base_uri": "https://localhost:8080/"
        },
        "id": "EkzGhRvfnAvp",
        "outputId": "c2c9e761-e5d7-425c-fe62-5bfe0046e7b9"
      },
      "source": [
        "temp=[]\r\n",
        "for i in range(1,13):\r\n",
        "  temp.append(sda1[i])\r\n",
        "print(temp)"
      ],
      "execution_count": 50,
      "outputs": [
        {
          "output_type": "stream",
          "text": [
            "[56, 46, 57, 53, 41, 36, 37, 33, 34, 36, 35, 44]\n"
          ],
          "name": "stdout"
        }
      ]
    },
    {
      "cell_type": "code",
      "metadata": {
        "colab": {
          "base_uri": "https://localhost:8080/",
          "height": 295
        },
        "id": "w_DTZ30IncKX",
        "outputId": "d9950c62-2529-4a26-8f25-23d8e6f1d7f4"
      },
      "source": [
        "import numpy as np\r\n",
        "import matplotlib.pyplot as plt\r\n",
        "\r\n",
        "Month = ['Jan','Feb','Mar','Apr','May','June','July','Aug','Sep','Oct','Nov','Dec']\r\n",
        "\r\n",
        "plt.bar(Month, temp)\r\n",
        "plt.xlabel(\"Month\")\r\n",
        "plt.ylabel('Crashes Count')\r\n",
        "plt.title('Year 2019')\r\n",
        "\r\n",
        "plt.show()"
      ],
      "execution_count": 51,
      "outputs": [
        {
          "output_type": "display_data",
          "data": {
            "image/png": "[encoded data removed]",
            "text/plain": [
              "<Figure size 432x288 with 1 Axes>"
            ]
          },
          "metadata": {
            "tags": [],
            "needs_background": "light"
          }
        }
      ]
    },
    {
      "cell_type": "code",
      "metadata": {
        "colab": {
          "base_uri": "https://localhost:8080/"
        },
        "id": "H7Z7gh2EpGbN",
        "outputId": "e4d838d2-064f-4ff4-8490-30ee9bea2cd2"
      },
      "source": [
        "sda2 = CrashesDF['Week Day Code'].value_counts()\r\n",
        "print(sda2)\r\n",
        "temp1=[]\r\n",
        "for i in range(1,8):\r\n",
        "  temp1.append(sda2[i])\r\n",
        "print(temp1)"
      ],
      "execution_count": 58,
      "outputs": [
        {
          "output_type": "stream",
          "text": [
            "7.0    83\n",
            "6.0    77\n",
            "3.0    75\n",
            "4.0    74\n",
            "2.0    71\n",
            "5.0    68\n",
            "1.0    60\n",
            "Name: Week Day Code, dtype: int64\n",
            "[60, 71, 75, 74, 68, 77, 83]\n"
          ],
          "name": "stdout"
        }
      ]
    },
    {
      "cell_type": "code",
      "metadata": {
        "colab": {
          "base_uri": "https://localhost:8080/",
          "height": 295
        },
        "id": "C6nsbVAPq_pO",
        "outputId": "0bb1b827-e917-436d-d92a-a67882b615e0"
      },
      "source": [
        "import numpy as np\r\n",
        "import matplotlib.pyplot as plt\r\n",
        "\r\n",
        "day = ['Sun','Mon','Tues','Wed','Thurs','Fri','Sat']\r\n",
        "\r\n",
        "plt.bar(day, temp1)\r\n",
        "plt.xlabel(\"Day\")\r\n",
        "plt.ylabel('Crashes Count')\r\n",
        "plt.title('Year 2019')\r\n",
        "\r\n",
        "plt.show()"
      ],
      "execution_count": 59,
      "outputs": [
        {
          "output_type": "display_data",
          "data": {
            "image/png": "[encoded data removed]",
            "text/plain": [
              "<Figure size 432x288 with 1 Axes>"
            ]
          },
          "metadata": {
            "tags": [],
            "needs_background": "light"
          }
        }
      ]
    },
    {
      "cell_type": "code",
      "metadata": {
        "colab": {
          "base_uri": "https://localhost:8080/"
        },
        "id": "PQfU453XwPIq",
        "outputId": "fb679b41-372a-4ed6-e2ea-09184e56f31a"
      },
      "source": [
        "# Resolved the Limit Assertion Age Violation \r\n",
        "age_viol = ParticipantsDF.dropna(subset=['Age'])\r\n",
        "la1_re = age_viol['Age']!=\"NaN\"\r\n",
        "la1_check = age_viol['Age'].between(0.0,9.0).all()\r\n",
        "print(la1_check)"
      ],
      "execution_count": 70,
      "outputs": [
        {
          "output_type": "stream",
          "text": [
            "True\n"
          ],
          "name": "stdout"
        }
      ]
    }
  ]
}