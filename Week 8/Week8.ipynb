{
  "nbformat": 4,
  "nbformat_minor": 0,
  "metadata": {
    "colab": {
      "name": "Week8.ipynb",
      "provenance": []
    },
    "kernelspec": {
      "name": "python3",
      "display_name": "Python 3"
    }
  },
  "cells": [
    {
      "cell_type": "code",
      "metadata": {
        "id": "csf-zIl8zGVG"
      },
      "source": [
        "import pandas as pd\r\n",
        "import numpy as np \r\n",
        "import csv\r\n",
        "import matplotlib.pyplot as plot"
      ],
      "execution_count": 61,
      "outputs": []
    },
    {
      "cell_type": "code",
      "metadata": {
        "colab": {
          "base_uri": "https://localhost:8080/"
        },
        "id": "1FRCMTvV0adi",
        "outputId": "df5ae700-4d8f-4841-e438-6947afc3d1de"
      },
      "source": [
        "from google.colab import drive\r\n",
        "drive.mount('/content/drive/')"
      ],
      "execution_count": 62,
      "outputs": [
        {
          "output_type": "stream",
          "text": [
            "Drive already mounted at /content/drive/; to attempt to forcibly remount, call drive.mount(\"/content/drive/\", force_remount=True).\n"
          ],
          "name": "stdout"
        }
      ]
    },
    {
      "cell_type": "code",
      "metadata": {
        "colab": {
          "base_uri": "https://localhost:8080/"
        },
        "id": "iYxVvp_S0jY1",
        "outputId": "baa8837a-8deb-4c73-f65f-12e30c3282ef"
      },
      "source": [
        "covid_data= pd.read_csv('/content/drive/My Drive/Colab Notebooks/COVID_county_data.csv')\r\n",
        "acs17_data= pd.read_csv('/content/drive/My Drive/Colab Notebooks/acs2017_census_tract_data.csv')\r\n",
        "print(covid_data)\r\n",
        "print(acs17_data)"
      ],
      "execution_count": 63,
      "outputs": [
        {
          "output_type": "stream",
          "text": [
            "               date      county       state     fips  cases  deaths\n",
            "0        2020-01-21   Snohomish  Washington  53061.0      1     0.0\n",
            "1        2020-01-22   Snohomish  Washington  53061.0      1     0.0\n",
            "2        2020-01-23   Snohomish  Washington  53061.0      1     0.0\n",
            "3        2020-01-24        Cook    Illinois  17031.0      1     0.0\n",
            "4        2020-01-24   Snohomish  Washington  53061.0      1     0.0\n",
            "...             ...         ...         ...      ...    ...     ...\n",
            "1050253  2021-02-20  Sweetwater     Wyoming  56037.0   3645    34.0\n",
            "1050254  2021-02-20       Teton     Wyoming  56039.0   3318     9.0\n",
            "1050255  2021-02-20       Uinta     Wyoming  56041.0   2024    12.0\n",
            "1050256  2021-02-20    Washakie     Wyoming  56043.0    876    26.0\n",
            "1050257  2021-02-20      Weston     Wyoming  56045.0    619     5.0\n",
            "\n",
            "[1050258 rows x 6 columns]\n",
            "           TractId        State  ... FamilyWork  Unemployment\n",
            "0       1001020100      Alabama  ...        0.0           4.6\n",
            "1       1001020200      Alabama  ...        0.0           3.4\n",
            "2       1001020300      Alabama  ...        0.7           4.7\n",
            "3       1001020400      Alabama  ...        0.0           6.1\n",
            "4       1001020500      Alabama  ...        0.0           2.3\n",
            "...            ...          ...  ...        ...           ...\n",
            "73996  72153750501  Puerto Rico  ...        0.0          20.8\n",
            "73997  72153750502  Puerto Rico  ...        0.0          26.3\n",
            "73998  72153750503  Puerto Rico  ...        0.0          23.0\n",
            "73999  72153750601  Puerto Rico  ...        0.0          29.5\n",
            "74000  72153750602  Puerto Rico  ...        0.0          17.9\n",
            "\n",
            "[74001 rows x 37 columns]\n"
          ],
          "name": "stdout"
        }
      ]
    },
    {
      "cell_type": "code",
      "metadata": {
        "colab": {
          "base_uri": "https://localhost:8080/",
          "height": 171
        },
        "id": "ZH914qdX0xGa",
        "outputId": "e28a1ca5-956e-4527-ee23-8ea10852e435"
      },
      "source": [
        "# Aggregrate Census Data to County\r\n",
        "\r\n",
        "counties=[\"Loudoun\", \"Washington\", \"Harlan\", \"Malheur\"]\r\n",
        "states=[\"Virginia\", \"Oregon\", \"Kentucky\", \"Oregon\"]\r\n",
        "\r\n",
        "allrecords=[]\r\n",
        "each=[]\r\n",
        "for i in range(len(counties)):\r\n",
        "  check_county=acs17_data[acs17_data['County']==counties[i]+\" County\"]\r\n",
        "  county=check_county[check_county['State']==states[i]]\r\n",
        "  totalpopulation=county['TotalPop'].sum(axis=0)\r\n",
        "  poverty=county['Poverty'].mean(axis=0)\r\n",
        "  percaptia=county['IncomePerCap'].mean(axis=0)\r\n",
        "\r\n",
        "  each.append(counties[i])\r\n",
        "  each.append(states[i])\r\n",
        "  each.append(totalpopulation)\r\n",
        "  each.append(poverty)\r\n",
        "  each.append(percaptia)\r\n",
        "  allrecords.append(each)\r\n",
        "  each=[]\r\n",
        "\r\n",
        "aggregated_df=pd.DataFrame.from_records(allrecords)\r\n",
        "aggregated_df.round({\"3\":3,\"4\":3})\r\n",
        "aggregated_df.columns = ['County','State','Population','Poverty','PerCapitaIncome']\r\n",
        "aggregated_df.head()"
      ],
      "execution_count": 67,
      "outputs": [
        {
          "output_type": "execute_result",
          "data": {
            "text/html": [
              "<div>\n",
              "<style scoped>\n",
              "    .dataframe tbody tr th:only-of-type {\n",
              "        vertical-align: middle;\n",
              "    }\n",
              "\n",
              "    .dataframe tbody tr th {\n",
              "        vertical-align: top;\n",
              "    }\n",
              "\n",
              "    .dataframe thead th {\n",
              "        text-align: right;\n",
              "    }\n",
              "</style>\n",
              "<table border=\"1\" class=\"dataframe\">\n",
              "  <thead>\n",
              "    <tr style=\"text-align: right;\">\n",
              "      <th></th>\n",
              "      <th>County</th>\n",
              "      <th>State</th>\n",
              "      <th>Population</th>\n",
              "      <th>Poverty</th>\n",
              "      <th>PerCapitaIncome</th>\n",
              "    </tr>\n",
              "  </thead>\n",
              "  <tbody>\n",
              "    <tr>\n",
              "      <th>0</th>\n",
              "      <td>Loudoun</td>\n",
              "      <td>Virginia</td>\n",
              "      <td>374558</td>\n",
              "      <td>3.884375</td>\n",
              "      <td>50391.015625</td>\n",
              "    </tr>\n",
              "    <tr>\n",
              "      <th>1</th>\n",
              "      <td>Washington</td>\n",
              "      <td>Oregon</td>\n",
              "      <td>572071</td>\n",
              "      <td>10.446154</td>\n",
              "      <td>34970.817308</td>\n",
              "    </tr>\n",
              "    <tr>\n",
              "      <th>2</th>\n",
              "      <td>Harlan</td>\n",
              "      <td>Kentucky</td>\n",
              "      <td>27548</td>\n",
              "      <td>33.318182</td>\n",
              "      <td>16010.363636</td>\n",
              "    </tr>\n",
              "    <tr>\n",
              "      <th>3</th>\n",
              "      <td>Malheur</td>\n",
              "      <td>Oregon</td>\n",
              "      <td>30421</td>\n",
              "      <td>24.414286</td>\n",
              "      <td>17966.428571</td>\n",
              "    </tr>\n",
              "  </tbody>\n",
              "</table>\n",
              "</div>"
            ],
            "text/plain": [
              "       County     State  Population    Poverty  PerCapitaIncome\n",
              "0     Loudoun  Virginia      374558   3.884375     50391.015625\n",
              "1  Washington    Oregon      572071  10.446154     34970.817308\n",
              "2      Harlan  Kentucky       27548  33.318182     16010.363636\n",
              "3     Malheur    Oregon       30421  24.414286     17966.428571"
            ]
          },
          "metadata": {
            "tags": []
          },
          "execution_count": 67
        }
      ]
    },
    {
      "cell_type": "code",
      "metadata": {
        "colab": {
          "base_uri": "https://localhost:8080/",
          "height": 171
        },
        "id": "vw6th-P13A7G",
        "outputId": "92760d80-2765-4341-850b-b5fe78ff5d02"
      },
      "source": [
        "# Simplify the Covid data\r\n",
        "\r\n",
        "allrecords=[]\r\n",
        "each=[]\r\n",
        "for i in range(len(counties)):\r\n",
        "  check_county1=covid_data[covid_data['county']==counties[i]]\r\n",
        "  c_county=check_county1[check_county1['state']==states[i]]\r\n",
        "  totalcases=c_county['cases'].sum(axis=0)\r\n",
        "  dec=c_county[c_county['date'].between(\"2020-12-01\",\"2020-12-31\")]\r\n",
        "  dec2020=dec['cases'].sum(axis=0)\r\n",
        "  deaths=c_county['deaths'].sum(axis=0)\r\n",
        "  dec2020_d=dec['deaths'].sum(axis=0)\r\n",
        "\r\n",
        "  each.append(counties[i])\r\n",
        "  each.append(states[i])\r\n",
        "  each.append(totalcases)\r\n",
        "  each.append(dec2020)\r\n",
        "  each.append(deaths)\r\n",
        "  each.append(dec2020_d)\r\n",
        "\r\n",
        "  allrecords.append(each)\r\n",
        "  each=[]\r\n",
        "\r\n",
        "covid_df=pd.DataFrame.from_records(allrecords)\r\n",
        "covid_df.columns = ['County','State', 'TotalCases','Dec2020Cases','TotalDeaths','Dec2020Deaths']\r\n",
        "covid_df.head()\r\n"
      ],
      "execution_count": 68,
      "outputs": [
        {
          "output_type": "execute_result",
          "data": {
            "text/html": [
              "<div>\n",
              "<style scoped>\n",
              "    .dataframe tbody tr th:only-of-type {\n",
              "        vertical-align: middle;\n",
              "    }\n",
              "\n",
              "    .dataframe tbody tr th {\n",
              "        vertical-align: top;\n",
              "    }\n",
              "\n",
              "    .dataframe thead th {\n",
              "        text-align: right;\n",
              "    }\n",
              "</style>\n",
              "<table border=\"1\" class=\"dataframe\">\n",
              "  <thead>\n",
              "    <tr style=\"text-align: right;\">\n",
              "      <th></th>\n",
              "      <th>County</th>\n",
              "      <th>State</th>\n",
              "      <th>TotalCases</th>\n",
              "      <th>Dec2020Cases</th>\n",
              "      <th>TotalDeaths</th>\n",
              "      <th>Dec2020Deaths</th>\n",
              "    </tr>\n",
              "  </thead>\n",
              "  <tbody>\n",
              "    <tr>\n",
              "      <th>0</th>\n",
              "      <td>Loudoun</td>\n",
              "      <td>Virginia</td>\n",
              "      <td>2496450</td>\n",
              "      <td>376223</td>\n",
              "      <td>35820.0</td>\n",
              "      <td>4729.0</td>\n",
              "    </tr>\n",
              "    <tr>\n",
              "      <th>1</th>\n",
              "      <td>Washington</td>\n",
              "      <td>Oregon</td>\n",
              "      <td>2157339</td>\n",
              "      <td>424620</td>\n",
              "      <td>22455.0</td>\n",
              "      <td>3860.0</td>\n",
              "    </tr>\n",
              "    <tr>\n",
              "      <th>2</th>\n",
              "      <td>Harlan</td>\n",
              "      <td>Kentucky</td>\n",
              "      <td>205984</td>\n",
              "      <td>38959</td>\n",
              "      <td>3994.0</td>\n",
              "      <td>506.0</td>\n",
              "    </tr>\n",
              "    <tr>\n",
              "      <th>3</th>\n",
              "      <td>Malheur</td>\n",
              "      <td>Oregon</td>\n",
              "      <td>453634</td>\n",
              "      <td>82916</td>\n",
              "      <td>7770.0</td>\n",
              "      <td>1465.0</td>\n",
              "    </tr>\n",
              "  </tbody>\n",
              "</table>\n",
              "</div>"
            ],
            "text/plain": [
              "       County     State  TotalCases  Dec2020Cases  TotalDeaths  Dec2020Deaths\n",
              "0     Loudoun  Virginia     2496450        376223      35820.0         4729.0\n",
              "1  Washington    Oregon     2157339        424620      22455.0         3860.0\n",
              "2      Harlan  Kentucky      205984         38959       3994.0          506.0\n",
              "3     Malheur    Oregon      453634         82916       7770.0         1465.0"
            ]
          },
          "metadata": {
            "tags": []
          },
          "execution_count": 68
        }
      ]
    },
    {
      "cell_type": "code",
      "metadata": {
        "colab": {
          "base_uri": "https://localhost:8080/",
          "height": 318
        },
        "id": "sebwDDWQ4Wef",
        "outputId": "556ee098-a1fa-49d7-b34c-e9f00dd83726"
      },
      "source": [
        "# Integrate Covid Data with ACS17 Data \r\n",
        "\r\n",
        "integrate_df = pd.merge(aggregated_df,covid_df,on='County',how='inner')\r\n",
        "del integrate_df['State_y']\r\n",
        "integrate_df.rename(columns = {'State_x':'State'}, inplace = True) \r\n",
        "oregon_r = integrate_df[integrate_df['State']=='Oregon']\r\n",
        "oregon_r['TotalCases'] = (oregon_r['TotalCases']*100000)/oregon_r['Population']\r\n",
        "oregon_r['TotalDeaths'] = (oregon_r['TotalDeaths']*100000)/oregon_r['Population']\r\n",
        "oregon_r.head()"
      ],
      "execution_count": 69,
      "outputs": [
        {
          "output_type": "stream",
          "text": [
            "/usr/local/lib/python3.7/dist-packages/ipykernel_launcher.py:7: SettingWithCopyWarning: \n",
            "A value is trying to be set on a copy of a slice from a DataFrame.\n",
            "Try using .loc[row_indexer,col_indexer] = value instead\n",
            "\n",
            "See the caveats in the documentation: https://pandas.pydata.org/pandas-docs/stable/user_guide/indexing.html#returning-a-view-versus-a-copy\n",
            "  import sys\n",
            "/usr/local/lib/python3.7/dist-packages/ipykernel_launcher.py:8: SettingWithCopyWarning: \n",
            "A value is trying to be set on a copy of a slice from a DataFrame.\n",
            "Try using .loc[row_indexer,col_indexer] = value instead\n",
            "\n",
            "See the caveats in the documentation: https://pandas.pydata.org/pandas-docs/stable/user_guide/indexing.html#returning-a-view-versus-a-copy\n",
            "  \n"
          ],
          "name": "stderr"
        },
        {
          "output_type": "execute_result",
          "data": {
            "text/html": [
              "<div>\n",
              "<style scoped>\n",
              "    .dataframe tbody tr th:only-of-type {\n",
              "        vertical-align: middle;\n",
              "    }\n",
              "\n",
              "    .dataframe tbody tr th {\n",
              "        vertical-align: top;\n",
              "    }\n",
              "\n",
              "    .dataframe thead th {\n",
              "        text-align: right;\n",
              "    }\n",
              "</style>\n",
              "<table border=\"1\" class=\"dataframe\">\n",
              "  <thead>\n",
              "    <tr style=\"text-align: right;\">\n",
              "      <th></th>\n",
              "      <th>County</th>\n",
              "      <th>State</th>\n",
              "      <th>Population</th>\n",
              "      <th>Poverty</th>\n",
              "      <th>PerCapitaIncome</th>\n",
              "      <th>TotalCases</th>\n",
              "      <th>Dec2020Cases</th>\n",
              "      <th>TotalDeaths</th>\n",
              "      <th>Dec2020Deaths</th>\n",
              "    </tr>\n",
              "  </thead>\n",
              "  <tbody>\n",
              "    <tr>\n",
              "      <th>1</th>\n",
              "      <td>Washington</td>\n",
              "      <td>Oregon</td>\n",
              "      <td>572071</td>\n",
              "      <td>10.446154</td>\n",
              "      <td>34970.817308</td>\n",
              "      <td>3.771104e+05</td>\n",
              "      <td>424620</td>\n",
              "      <td>3925.212080</td>\n",
              "      <td>3860.0</td>\n",
              "    </tr>\n",
              "    <tr>\n",
              "      <th>3</th>\n",
              "      <td>Malheur</td>\n",
              "      <td>Oregon</td>\n",
              "      <td>30421</td>\n",
              "      <td>24.414286</td>\n",
              "      <td>17966.428571</td>\n",
              "      <td>1.491187e+06</td>\n",
              "      <td>82916</td>\n",
              "      <td>25541.566681</td>\n",
              "      <td>1465.0</td>\n",
              "    </tr>\n",
              "  </tbody>\n",
              "</table>\n",
              "</div>"
            ],
            "text/plain": [
              "       County   State  Population  ...  Dec2020Cases   TotalDeaths  Dec2020Deaths\n",
              "1  Washington  Oregon      572071  ...        424620   3925.212080         3860.0\n",
              "3     Malheur  Oregon       30421  ...         82916  25541.566681         1465.0\n",
              "\n",
              "[2 rows x 9 columns]"
            ]
          },
          "metadata": {
            "tags": []
          },
          "execution_count": 69
        }
      ]
    },
    {
      "cell_type": "code",
      "metadata": {
        "colab": {
          "base_uri": "https://localhost:8080/",
          "height": 237
        },
        "id": "oMK7MGeu5HeB",
        "outputId": "274c0f88-6b12-4b81-9092-4a9d16ce6cc1"
      },
      "source": [
        "# Analysis of all the counties in the state of oregon.\r\n",
        "# Here just took the oregon state all counties as a dataframe\r\n",
        "allrecords=[]\r\n",
        "each=[]\r\n",
        "state=covid_data[covid_data['state']=='Oregon']\r\n",
        "d_allcounties=state['county'].unique()\r\n",
        "allcounties=list(d_allcounties)\r\n",
        "\r\n",
        "for i in range(len(allcounties)):\r\n",
        "  each.append('Oregon')\r\n",
        "  acs_county=acs17_data[acs17_data['County']==allcounties[i]+\" County\"]\r\n",
        "  covid_county=covid_data[covid_data['county']==allcounties[i]]\r\n",
        "  each.append(allcounties[i])\r\n",
        "\r\n",
        "  totalcases=covid_county['cases'].sum(axis=0)\r\n",
        "  dec=covid_county[covid_county['date'].between(\"2020-12-01\",\"2020-12-31\")]\r\n",
        "  dec2020=dec['cases'].sum(axis=0)\r\n",
        "  deaths=covid_county['deaths'].sum(axis=0)\r\n",
        "  dec2020_d=dec['deaths'].sum(axis=0)\r\n",
        "\r\n",
        "  totalpopulation=acs_county['TotalPop'].sum(axis=0)\r\n",
        "  poverty=acs_county['Poverty'].mean(axis=0)\r\n",
        "  percaptia=acs_county['IncomePerCap'].mean(axis=0)\r\n",
        "  \r\n",
        "  totalcases=(totalcases*100000)/totalpopulation\r\n",
        "  each.append(totalcases)\r\n",
        "  each.append(dec2020)\r\n",
        "  totaldeath=(deaths*100000)/totalpopulation\r\n",
        "  each.append(totaldeath)\r\n",
        "  each.append(dec2020_d)\r\n",
        "  each.append(totalpopulation)\r\n",
        "  each.append(poverty)\r\n",
        "  each.append(percaptia)\r\n",
        "\r\n",
        "  allrecords.append(each)\r\n",
        "  each=[]\r\n",
        "\r\n",
        "\r\n",
        "oregon_df=pd.DataFrame.from_records(allrecords)\r\n",
        "oregon_df=oregon_df.dropna(axis=0)\r\n",
        "oregon_df.columns = ['State','County','TotalCases','Dec2020Cases','TotalDeaths','Dec2020Deaths','Population','Poverty','PerCapitaIncome']\r\n",
        "oregon_df.head()"
      ],
      "execution_count": 82,
      "outputs": [
        {
          "output_type": "stream",
          "text": [
            "/usr/local/lib/python3.7/dist-packages/ipykernel_launcher.py:25: RuntimeWarning: divide by zero encountered in long_scalars\n",
            "/usr/local/lib/python3.7/dist-packages/ipykernel_launcher.py:28: RuntimeWarning: divide by zero encountered in double_scalars\n"
          ],
          "name": "stderr"
        },
        {
          "output_type": "execute_result",
          "data": {
            "text/html": [
              "<div>\n",
              "<style scoped>\n",
              "    .dataframe tbody tr th:only-of-type {\n",
              "        vertical-align: middle;\n",
              "    }\n",
              "\n",
              "    .dataframe tbody tr th {\n",
              "        vertical-align: top;\n",
              "    }\n",
              "\n",
              "    .dataframe thead th {\n",
              "        text-align: right;\n",
              "    }\n",
              "</style>\n",
              "<table border=\"1\" class=\"dataframe\">\n",
              "  <thead>\n",
              "    <tr style=\"text-align: right;\">\n",
              "      <th></th>\n",
              "      <th>State</th>\n",
              "      <th>County</th>\n",
              "      <th>TotalCases</th>\n",
              "      <th>Dec2020Cases</th>\n",
              "      <th>TotalDeaths</th>\n",
              "      <th>Dec2020Deaths</th>\n",
              "      <th>Population</th>\n",
              "      <th>Poverty</th>\n",
              "      <th>PerCapitaIncome</th>\n",
              "    </tr>\n",
              "  </thead>\n",
              "  <tbody>\n",
              "    <tr>\n",
              "      <th>0</th>\n",
              "      <td>Oregon</td>\n",
              "      <td>Washington</td>\n",
              "      <td>793187.636812</td>\n",
              "      <td>3990534</td>\n",
              "      <td>12714.035387</td>\n",
              "      <td>53730.0</td>\n",
              "      <td>2564646</td>\n",
              "      <td>13.422243</td>\n",
              "      <td>30729.954380</td>\n",
              "    </tr>\n",
              "    <tr>\n",
              "      <th>1</th>\n",
              "      <td>Oregon</td>\n",
              "      <td>Jackson</td>\n",
              "      <td>741655.778100</td>\n",
              "      <td>2510114</td>\n",
              "      <td>11596.367446</td>\n",
              "      <td>33952.0</td>\n",
              "      <td>1722755</td>\n",
              "      <td>18.493882</td>\n",
              "      <td>26107.727059</td>\n",
              "    </tr>\n",
              "    <tr>\n",
              "      <th>2</th>\n",
              "      <td>Oregon</td>\n",
              "      <td>Klamath</td>\n",
              "      <td>339689.175679</td>\n",
              "      <td>45118</td>\n",
              "      <td>4327.607622</td>\n",
              "      <td>373.0</td>\n",
              "      <td>66018</td>\n",
              "      <td>18.930000</td>\n",
              "      <td>23712.400000</td>\n",
              "    </tr>\n",
              "    <tr>\n",
              "      <th>3</th>\n",
              "      <td>Oregon</td>\n",
              "      <td>Douglas</td>\n",
              "      <td>938039.018649</td>\n",
              "      <td>2741060</td>\n",
              "      <td>10664.338576</td>\n",
              "      <td>27887.0</td>\n",
              "      <td>1440952</td>\n",
              "      <td>13.097015</td>\n",
              "      <td>33581.874627</td>\n",
              "    </tr>\n",
              "    <tr>\n",
              "      <th>4</th>\n",
              "      <td>Oregon</td>\n",
              "      <td>Marion</td>\n",
              "      <td>953441.471648</td>\n",
              "      <td>3456922</td>\n",
              "      <td>23045.232016</td>\n",
              "      <td>66247.0</td>\n",
              "      <td>2018526</td>\n",
              "      <td>19.951429</td>\n",
              "      <td>24578.778022</td>\n",
              "    </tr>\n",
              "  </tbody>\n",
              "</table>\n",
              "</div>"
            ],
            "text/plain": [
              "    State      County     TotalCases  ...  Population    Poverty  PerCapitaIncome\n",
              "0  Oregon  Washington  793187.636812  ...     2564646  13.422243     30729.954380\n",
              "1  Oregon     Jackson  741655.778100  ...     1722755  18.493882     26107.727059\n",
              "2  Oregon     Klamath  339689.175679  ...       66018  18.930000     23712.400000\n",
              "3  Oregon     Douglas  938039.018649  ...     1440952  13.097015     33581.874627\n",
              "4  Oregon      Marion  953441.471648  ...     2018526  19.951429     24578.778022\n",
              "\n",
              "[5 rows x 9 columns]"
            ]
          },
          "metadata": {
            "tags": []
          },
          "execution_count": 82
        }
      ]
    },
    {
      "cell_type": "code",
      "metadata": {
        "colab": {
          "base_uri": "https://localhost:8080/"
        },
        "id": "lm4U7HXn50LF",
        "outputId": "4bb6edbd-1ecf-4cf1-acf8-006248b67fd3"
      },
      "source": [
        "#Correlation Coefficient for Oregon dataframe\r\n",
        "\r\n",
        "rvalues=[]\r\n",
        "R1 = oregon_df['TotalCases'].corr(oregon_df['Poverty'])\r\n",
        "R2 = oregon_df['TotalDeaths'].corr(oregon_df['Poverty'])\r\n",
        "R3 = oregon_df['TotalCases'].corr(oregon_df['PerCapitaIncome'])\r\n",
        "R4 = oregon_df['TotalDeaths'].corr(oregon_df['PerCapitaIncome'])\r\n",
        "R5 = oregon_df['Dec2020Cases'].corr(oregon_df['Poverty'])\r\n",
        "R6 = oregon_df['Dec2020Deaths'].corr(oregon_df['Poverty'])\r\n",
        "R7 = oregon_df['Dec2020Cases'].corr(oregon_df['PerCapitaIncome'])\r\n",
        "R8 = oregon_df['Dec2020Deaths'].corr(oregon_df['PerCapitaIncome'])\r\n",
        "rvalues.append(R1)\r\n",
        "rvalues.append(R2)\r\n",
        "rvalues.append(R3)\r\n",
        "rvalues.append(R4)\r\n",
        "rvalues.append(R5)\r\n",
        "rvalues.append(R6)\r\n",
        "rvalues.append(R7)\r\n",
        "rvalues.append(R8)\r\n",
        "print(rvalues)\r\n",
        "\r\n",
        "check_rval=[]\r\n",
        "for i in rvalues:\r\n",
        "  if(i>0.5 or i<-0.5):\r\n",
        "    check_rval.append(i)\r\n",
        "print(check_rval)"
      ],
      "execution_count": 83,
      "outputs": [
        {
          "output_type": "stream",
          "text": [
            "[0.297471134394528, 0.20946190596896594, -0.18950461546988256, -0.07405908604882054, 0.057059538757632346, 0.05571798839796383, 0.2851092192782961, 0.2664467664558328]\n",
            "[]\n"
          ],
          "name": "stdout"
        }
      ]
    },
    {
      "cell_type": "code",
      "metadata": {
        "colab": {
          "base_uri": "https://localhost:8080/",
          "height": 254
        },
        "id": "8wrex1Nl53vM",
        "outputId": "2c4af7f6-ee2e-4413-fba1-347edc421809"
      },
      "source": [
        "# Analysis of all the counties in the USA\r\n",
        "# Here we just took the all counties as a dataframe\r\n",
        "allrecords=[]\r\n",
        "each=[]\r\n",
        "d_allcounties=covid_data['county'].unique()\r\n",
        "allcounties=list(d_allcounties)\r\n",
        "\r\n",
        "for i in range(len(allcounties)):\r\n",
        "  acs_county=acs17_data[acs17_data['County']==allcounties[i]+\" County\"]\r\n",
        "  covid_county=covid_data[covid_data['county']==allcounties[i]]\r\n",
        "  each.append(allcounties[i])\r\n",
        "\r\n",
        "  totalcases=covid_county['cases'].sum(axis=0)\r\n",
        "  dec=covid_county[covid_county['date'].between(\"2020-12-01\",\"2020-12-31\")]\r\n",
        "  dec2020=dec['cases'].sum(axis=0)\r\n",
        "  deaths=covid_county['deaths'].sum(axis=0)\r\n",
        "  dec2020_d=dec['deaths'].sum(axis=0)\r\n",
        "\r\n",
        "  totalpopulation=acs_county['TotalPop'].sum(axis=0)\r\n",
        "  poverty=acs_county['Poverty'].mean(axis=0)\r\n",
        "  percaptia=acs_county['IncomePerCap'].mean(axis=0)\r\n",
        "  \r\n",
        "  totalcases=(totalcases*100000)/totalpopulation\r\n",
        "  each.append(totalcases)\r\n",
        "  each.append(dec2020)\r\n",
        "  totaldeath=(deaths*100000)/totalpopulation\r\n",
        "  each.append(totaldeath)\r\n",
        "  each.append(dec2020_d)\r\n",
        "  each.append(totalpopulation)\r\n",
        "  each.append(poverty)\r\n",
        "  each.append(percaptia)\r\n",
        "\r\n",
        "  allrecords.append(each)\r\n",
        "  each=[]\r\n",
        "\r\n",
        "\r\n",
        "allcounties_df=pd.DataFrame.from_records(allrecords)\r\n",
        "allcounties_df.columns = ['County','TotalCases','Dec2020Cases','TotalDeaths','Dec2020Deaths','Population','Poverty','PerCapitaIncome']\r\n",
        "allcounties_df.head()"
      ],
      "execution_count": 90,
      "outputs": [
        {
          "output_type": "stream",
          "text": [
            "/usr/local/lib/python3.7/dist-packages/ipykernel_launcher.py:23: RuntimeWarning: divide by zero encountered in long_scalars\n",
            "/usr/local/lib/python3.7/dist-packages/ipykernel_launcher.py:26: RuntimeWarning: divide by zero encountered in double_scalars\n",
            "/usr/local/lib/python3.7/dist-packages/ipykernel_launcher.py:26: RuntimeWarning: invalid value encountered in double_scalars\n"
          ],
          "name": "stderr"
        },
        {
          "output_type": "execute_result",
          "data": {
            "text/html": [
              "<div>\n",
              "<style scoped>\n",
              "    .dataframe tbody tr th:only-of-type {\n",
              "        vertical-align: middle;\n",
              "    }\n",
              "\n",
              "    .dataframe tbody tr th {\n",
              "        vertical-align: top;\n",
              "    }\n",
              "\n",
              "    .dataframe thead th {\n",
              "        text-align: right;\n",
              "    }\n",
              "</style>\n",
              "<table border=\"1\" class=\"dataframe\">\n",
              "  <thead>\n",
              "    <tr style=\"text-align: right;\">\n",
              "      <th></th>\n",
              "      <th>County</th>\n",
              "      <th>TotalCases</th>\n",
              "      <th>Dec2020Cases</th>\n",
              "      <th>TotalDeaths</th>\n",
              "      <th>Dec2020Deaths</th>\n",
              "      <th>Population</th>\n",
              "      <th>Poverty</th>\n",
              "      <th>PerCapitaIncome</th>\n",
              "    </tr>\n",
              "  </thead>\n",
              "  <tbody>\n",
              "    <tr>\n",
              "      <th>0</th>\n",
              "      <td>Snohomish</td>\n",
              "      <td>4.587665e+05</td>\n",
              "      <td>614421</td>\n",
              "      <td>10338.591327</td>\n",
              "      <td>10640.0</td>\n",
              "      <td>771904</td>\n",
              "      <td>8.934899</td>\n",
              "      <td>36148.134228</td>\n",
              "    </tr>\n",
              "    <tr>\n",
              "      <th>1</th>\n",
              "      <td>Cook</td>\n",
              "      <td>1.180935e+06</td>\n",
              "      <td>11111631</td>\n",
              "      <td>33112.995036</td>\n",
              "      <td>233626.0</td>\n",
              "      <td>5261001</td>\n",
              "      <td>17.988948</td>\n",
              "      <td>33006.301287</td>\n",
              "    </tr>\n",
              "    <tr>\n",
              "      <th>2</th>\n",
              "      <td>Orange</td>\n",
              "      <td>8.418201e+05</td>\n",
              "      <td>6659614</td>\n",
              "      <td>13061.201671</td>\n",
              "      <td>94500.0</td>\n",
              "      <td>5133716</td>\n",
              "      <td>13.075722</td>\n",
              "      <td>35621.433298</td>\n",
              "    </tr>\n",
              "    <tr>\n",
              "      <th>3</th>\n",
              "      <td>Maricopa</td>\n",
              "      <td>1.267895e+06</td>\n",
              "      <td>8277933</td>\n",
              "      <td>23323.589623</td>\n",
              "      <td>140051.0</td>\n",
              "      <td>4155501</td>\n",
              "      <td>16.130955</td>\n",
              "      <td>30761.265642</td>\n",
              "    </tr>\n",
              "    <tr>\n",
              "      <th>4</th>\n",
              "      <td>Los Angeles</td>\n",
              "      <td>1.122602e+06</td>\n",
              "      <td>17784563</td>\n",
              "      <td>20998.113742</td>\n",
              "      <td>268598.0</td>\n",
              "      <td>10105722</td>\n",
              "      <td>17.323803</td>\n",
              "      <td>31389.413867</td>\n",
              "    </tr>\n",
              "  </tbody>\n",
              "</table>\n",
              "</div>"
            ],
            "text/plain": [
              "        County    TotalCases  ...    Poverty  PerCapitaIncome\n",
              "0    Snohomish  4.587665e+05  ...   8.934899     36148.134228\n",
              "1         Cook  1.180935e+06  ...  17.988948     33006.301287\n",
              "2       Orange  8.418201e+05  ...  13.075722     35621.433298\n",
              "3     Maricopa  1.267895e+06  ...  16.130955     30761.265642\n",
              "4  Los Angeles  1.122602e+06  ...  17.323803     31389.413867\n",
              "\n",
              "[5 rows x 8 columns]"
            ]
          },
          "metadata": {
            "tags": []
          },
          "execution_count": 90
        }
      ]
    },
    {
      "cell_type": "code",
      "metadata": {
        "colab": {
          "base_uri": "https://localhost:8080/"
        },
        "id": "sarfBiZT6DZ4",
        "outputId": "91b520d5-7490-4ec3-e016-3d6252a2b8f5"
      },
      "source": [
        "# Correlation Coefficient for all counties in USA.\r\n",
        "\r\n",
        "rvalues=[]\r\n",
        "R1 = allcounties_df['TotalCases'].corr(allcounties_df['Poverty'])\r\n",
        "R2 = allcounties_df['TotalDeaths'].corr(allcounties_df['Poverty'])\r\n",
        "R3 = allcounties_df['TotalCases'].corr(allcounties_df['PerCapitaIncome'])\r\n",
        "R4 = allcounties_df['TotalDeaths'].corr(allcounties_df['PerCapitaIncome'])\r\n",
        "R5 = allcounties_df['Dec2020Cases'].corr(allcounties_df['Poverty'])\r\n",
        "R6 = allcounties_df['Dec2020Deaths'].corr(allcounties_df['Poverty'])\r\n",
        "R7 = allcounties_df['Dec2020Cases'].corr(allcounties_df['PerCapitaIncome'])\r\n",
        "R8 = allcounties_df['Dec2020Deaths'].corr(allcounties_df['PerCapitaIncome'])\r\n",
        "\r\n",
        "rvalues.append(R1)\r\n",
        "rvalues.append(R2)\r\n",
        "rvalues.append(R3)\r\n",
        "rvalues.append(R4)\r\n",
        "rvalues.append(R5)\r\n",
        "rvalues.append(R6)\r\n",
        "rvalues.append(R7)\r\n",
        "rvalues.append(R8)\r\n",
        "print(rvalues)\r\n",
        "check_rval=[]\r\n",
        "for i in rvalues:\r\n",
        "  if(i>0.5 or i<-0.5):\r\n",
        "    check_rval.append(i)\r\n",
        "print(check_rval)"
      ],
      "execution_count": 91,
      "outputs": [
        {
          "output_type": "stream",
          "text": [
            "[0.16690037795100285, 0.199728642737955, -0.1870637430384339, -0.1413631086967846, -0.027528196894307654, -0.02187824035470475, 0.2021547054177172, 0.21840972654694812]\n",
            "[]\n"
          ],
          "name": "stdout"
        }
      ]
    }
  ]
}